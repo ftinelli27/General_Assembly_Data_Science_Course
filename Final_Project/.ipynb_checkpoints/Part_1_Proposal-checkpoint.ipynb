{
 "cells": [
  {
   "cell_type": "markdown",
   "metadata": {},
   "source": [
    "# Final Project Part 1: Proposal\n",
    "### Develop a hypothesis-driven approach to your analysis\n",
    "_By: Francesco Yuri Tinelli (Washington, D.C.)_\n",
    "\n",
    "---"
   ]
  },
  {
   "cell_type": "markdown",
   "metadata": {},
   "source": [
    "### Business/Product Objectives"
   ]
  },
  {
   "cell_type": "markdown",
   "metadata": {},
   "source": [
    "Employee attrition is known to be a significant factor of cost, tangible and intangible, for companies. Thus, it's important for every company to analyze and manage employee attrition and retention.\n",
    "\n",
    "How helpful would it be for companies if they could predict which employees are going to leave and which will stay? \n",
    "\n",
    "The objective of this project is build a model to meet this need."
   ]
  },
  {
   "cell_type": "markdown",
   "metadata": {},
   "source": [
    "### Hypothesis/Assumptions\n"
   ]
  },
  {
   "cell_type": "markdown",
   "metadata": {},
   "source": [
    "Given the avaiable Human Reousrce (HR) data can we determine which features are significant and will more accruately predict if an employee will leave or stay with the company. "
   ]
  },
  {
   "cell_type": "markdown",
   "metadata": {},
   "source": [
    "### Goals and Success Metrics"
   ]
  },
  {
   "cell_type": "markdown",
   "metadata": {},
   "source": [
    "From the analysis and development of the model a company would:\n",
    "\n",
    "- Have an understading of their workforce \n",
    "- A model to predict the number of employess that are leaving or not \n",
    "- A level of accuracy on results\n",
    "\n",
    "All to inform attrition and retention strategies. "
   ]
  },
  {
   "cell_type": "markdown",
   "metadata": {},
   "source": [
    "### Risks or limitations"
   ]
  },
  {
   "cell_type": "markdown",
   "metadata": {},
   "source": [
    "The dataset is fictionalized and mirrors a small company. "
   ]
  },
  {
   "cell_type": "markdown",
   "metadata": {},
   "source": [
    "### Dataset"
   ]
  },
  {
   "cell_type": "markdown",
   "metadata": {},
   "source": [
    "[Human Resource Dataset](https://www.kaggle.com/rhuebner/human-resources-data-set)"
   ]
  }
 ],
 "metadata": {
  "kernelspec": {
   "display_name": "Python 3",
   "language": "python",
   "name": "python3"
  },
  "language_info": {
   "codemirror_mode": {
    "name": "ipython",
    "version": 3
   },
   "file_extension": ".py",
   "mimetype": "text/x-python",
   "name": "python",
   "nbconvert_exporter": "python",
   "pygments_lexer": "ipython3",
   "version": "3.6.5"
  }
 },
 "nbformat": 4,
 "nbformat_minor": 2
}
